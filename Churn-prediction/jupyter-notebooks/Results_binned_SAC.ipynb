{
 "cells": [
  {
   "cell_type": "code",
   "execution_count": 2,
   "metadata": {},
   "outputs": [],
   "source": [
    "import seaborn as sns\n",
    "import matplotlib.pyplot as plt\n",
    "import pandas as pd"
   ]
  },
  {
   "cell_type": "code",
   "execution_count": 3,
   "metadata": {},
   "outputs": [
    {
     "data": {
      "text/html": [
       "<div>\n",
       "<style scoped>\n",
       "    .dataframe tbody tr th:only-of-type {\n",
       "        vertical-align: middle;\n",
       "    }\n",
       "\n",
       "    .dataframe tbody tr th {\n",
       "        vertical-align: top;\n",
       "    }\n",
       "\n",
       "    .dataframe thead th {\n",
       "        text-align: right;\n",
       "    }\n",
       "</style>\n",
       "<table border=\"1\" class=\"dataframe\">\n",
       "  <thead>\n",
       "    <tr style=\"text-align: right;\">\n",
       "      <th></th>\n",
       "      <th>VMail Message</th>\n",
       "      <th>Day Mins</th>\n",
       "      <th>Eve Mins</th>\n",
       "      <th>Night Mins</th>\n",
       "      <th>Intl Mins</th>\n",
       "      <th>CustServ Calls</th>\n",
       "      <th>Day Calls</th>\n",
       "      <th>Day Charge</th>\n",
       "      <th>Eve Calls</th>\n",
       "      <th>Eve Charge</th>\n",
       "      <th>...</th>\n",
       "      <th>Country</th>\n",
       "      <th>Account Length</th>\n",
       "      <th>Churn</th>\n",
       "      <th>Int'l Plan</th>\n",
       "      <th>VMail Plan</th>\n",
       "      <th>Latitude</th>\n",
       "      <th>Longitude</th>\n",
       "      <th>P (Churn=0)</th>\n",
       "      <th>P (Churn=1)</th>\n",
       "      <th>Prediction (Churn)</th>\n",
       "    </tr>\n",
       "  </thead>\n",
       "  <tbody>\n",
       "    <tr>\n",
       "      <th>0</th>\n",
       "      <td>0.0</td>\n",
       "      <td>206.30</td>\n",
       "      <td>203.05</td>\n",
       "      <td>286.60</td>\n",
       "      <td>12.30</td>\n",
       "      <td>2.5</td>\n",
       "      <td>104.5</td>\n",
       "      <td>35.075</td>\n",
       "      <td>76.0</td>\n",
       "      <td>17.260</td>\n",
       "      <td>...</td>\n",
       "      <td>Sacramento</td>\n",
       "      <td>113.5</td>\n",
       "      <td>0</td>\n",
       "      <td>1</td>\n",
       "      <td>0</td>\n",
       "      <td>38.627</td>\n",
       "      <td>-121.442</td>\n",
       "      <td>0.302</td>\n",
       "      <td>0.828</td>\n",
       "      <td>1</td>\n",
       "    </tr>\n",
       "    <tr>\n",
       "      <th>1</th>\n",
       "      <td>0.0</td>\n",
       "      <td>151.30</td>\n",
       "      <td>83.55</td>\n",
       "      <td>177.05</td>\n",
       "      <td>10.70</td>\n",
       "      <td>0.0</td>\n",
       "      <td>84.0</td>\n",
       "      <td>25.720</td>\n",
       "      <td>103.5</td>\n",
       "      <td>7.105</td>\n",
       "      <td>...</td>\n",
       "      <td>Sacramento</td>\n",
       "      <td>130.5</td>\n",
       "      <td>0</td>\n",
       "      <td>0</td>\n",
       "      <td>0</td>\n",
       "      <td>38.582</td>\n",
       "      <td>-121.494</td>\n",
       "      <td>0.995</td>\n",
       "      <td>0.004</td>\n",
       "      <td>0</td>\n",
       "    </tr>\n",
       "    <tr>\n",
       "      <th>2</th>\n",
       "      <td>0.0</td>\n",
       "      <td>273.05</td>\n",
       "      <td>132.50</td>\n",
       "      <td>286.60</td>\n",
       "      <td>11.55</td>\n",
       "      <td>4.0</td>\n",
       "      <td>115.0</td>\n",
       "      <td>46.415</td>\n",
       "      <td>59.5</td>\n",
       "      <td>11.265</td>\n",
       "      <td>...</td>\n",
       "      <td>Sacramento</td>\n",
       "      <td>89.0</td>\n",
       "      <td>0</td>\n",
       "      <td>0</td>\n",
       "      <td>0</td>\n",
       "      <td>38.582</td>\n",
       "      <td>-121.494</td>\n",
       "      <td>0.302</td>\n",
       "      <td>0.378</td>\n",
       "      <td>0</td>\n",
       "    </tr>\n",
       "    <tr>\n",
       "      <th>3</th>\n",
       "      <td>0.0</td>\n",
       "      <td>98.20</td>\n",
       "      <td>132.50</td>\n",
       "      <td>234.20</td>\n",
       "      <td>12.30</td>\n",
       "      <td>0.5</td>\n",
       "      <td>104.5</td>\n",
       "      <td>16.695</td>\n",
       "      <td>135.0</td>\n",
       "      <td>11.265</td>\n",
       "      <td>...</td>\n",
       "      <td>Sacramento</td>\n",
       "      <td>52.5</td>\n",
       "      <td>0</td>\n",
       "      <td>0</td>\n",
       "      <td>0</td>\n",
       "      <td>38.582</td>\n",
       "      <td>-121.494</td>\n",
       "      <td>0.999</td>\n",
       "      <td>0.002</td>\n",
       "      <td>0</td>\n",
       "    </tr>\n",
       "    <tr>\n",
       "      <th>4</th>\n",
       "      <td>0.0</td>\n",
       "      <td>176.15</td>\n",
       "      <td>194.10</td>\n",
       "      <td>209.10</td>\n",
       "      <td>14.70</td>\n",
       "      <td>2.5</td>\n",
       "      <td>90.0</td>\n",
       "      <td>29.950</td>\n",
       "      <td>76.0</td>\n",
       "      <td>16.500</td>\n",
       "      <td>...</td>\n",
       "      <td>Sacramento</td>\n",
       "      <td>113.5</td>\n",
       "      <td>0</td>\n",
       "      <td>0</td>\n",
       "      <td>0</td>\n",
       "      <td>38.627</td>\n",
       "      <td>-121.442</td>\n",
       "      <td>0.989</td>\n",
       "      <td>0.013</td>\n",
       "      <td>0</td>\n",
       "    </tr>\n",
       "  </tbody>\n",
       "</table>\n",
       "<p>5 rows × 27 columns</p>\n",
       "</div>"
      ],
      "text/plain": [
       "   VMail Message  Day Mins  Eve Mins  Night Mins  Intl Mins  CustServ Calls  \\\n",
       "0            0.0    206.30    203.05      286.60      12.30             2.5   \n",
       "1            0.0    151.30     83.55      177.05      10.70             0.0   \n",
       "2            0.0    273.05    132.50      286.60      11.55             4.0   \n",
       "3            0.0     98.20    132.50      234.20      12.30             0.5   \n",
       "4            0.0    176.15    194.10      209.10      14.70             2.5   \n",
       "\n",
       "   Day Calls  Day Charge  Eve Calls  Eve Charge  ...     Country  \\\n",
       "0      104.5      35.075       76.0      17.260  ...  Sacramento   \n",
       "1       84.0      25.720      103.5       7.105  ...  Sacramento   \n",
       "2      115.0      46.415       59.5      11.265  ...  Sacramento   \n",
       "3      104.5      16.695      135.0      11.265  ...  Sacramento   \n",
       "4       90.0      29.950       76.0      16.500  ...  Sacramento   \n",
       "\n",
       "   Account Length  Churn  Int'l Plan VMail Plan  Latitude Longitude  \\\n",
       "0           113.5      0           1          0    38.627  -121.442   \n",
       "1           130.5      0           0          0    38.582  -121.494   \n",
       "2            89.0      0           0          0    38.582  -121.494   \n",
       "3            52.5      0           0          0    38.582  -121.494   \n",
       "4           113.5      0           0          0    38.627  -121.442   \n",
       "\n",
       "  P (Churn=0)  P (Churn=1)  Prediction (Churn)  \n",
       "0       0.302        0.828                   1  \n",
       "1       0.995        0.004                   0  \n",
       "2       0.302        0.378                   0  \n",
       "3       0.999        0.002                   0  \n",
       "4       0.989        0.013                   0  \n",
       "\n",
       "[5 rows x 27 columns]"
      ]
     },
     "execution_count": 3,
     "metadata": {},
     "output_type": "execute_result"
    }
   ],
   "source": [
    "df = pd.read_csv('C:\\\\Users\\\\Praveen Palem\\\\Documents\\\\Knime\\\\Data\\\\Sacramento_binned.csv')\n",
    "df.head()"
   ]
  },
  {
   "cell_type": "code",
   "execution_count": 10,
   "metadata": {},
   "outputs": [
    {
     "data": {
      "text/plain": [
       "<matplotlib.axes._subplots.AxesSubplot at 0x27d9dd7df60>"
      ]
     },
     "execution_count": 10,
     "metadata": {},
     "output_type": "execute_result"
    },
    {
     "data": {
      "image/png": "[encoded data removed]",
      "text/plain": [
       "<Figure size 432x288 with 1 Axes>"
      ]
     },
     "metadata": {
      "needs_background": "light"
     },
     "output_type": "display_data"
    }
   ],
   "source": [
    "y = df[\"Churn\"].value_counts()\n",
    "sns.barplot(y.index, y.values)"
   ]
  },
  {
   "cell_type": "code",
   "execution_count": 11,
   "metadata": {},
   "outputs": [
    {
     "data": {
      "text/plain": [
       "<matplotlib.axes._subplots.AxesSubplot at 0x27d9ddce1d0>"
      ]
     },
     "execution_count": 11,
     "metadata": {},
     "output_type": "execute_result"
    },
    {
     "data": {
      "image/png": "[encoded data removed]",
      "text/plain": [
       "<Figure size 432x288 with 1 Axes>"
      ]
     },
     "metadata": {
      "needs_background": "light"
     },
     "output_type": "display_data"
    }
   ],
   "source": [
    "y = df[\"Prediction (Churn)\"].value_counts()\n",
    "sns.barplot(y.index, y.values)"
   ]
  },
  {
   "cell_type": "code",
   "execution_count": 12,
   "metadata": {},
   "outputs": [],
   "source": [
    "#df.groupby([\"City\", \"Churn\"]).size().unstack().plot(kind='bar', stacked=True, figsize=(30,10)) "
   ]
  },
  {
   "cell_type": "code",
   "execution_count": 6,
   "metadata": {},
   "outputs": [
    {
     "data": {
      "text/plain": [
       "<matplotlib.axes._subplots.AxesSubplot at 0x27d9d886e10>"
      ]
     },
     "execution_count": 6,
     "metadata": {},
     "output_type": "execute_result"
    },
    {
     "data": {
      "image/png": "[encoded data removed]",
      "text/plain": [
       "<Figure size 432x288 with 1 Axes>"
      ]
     },
     "metadata": {
      "needs_background": "light"
     },
     "output_type": "display_data"
    }
   ],
   "source": [
    "df_pivot = df.pivot_table(values='Phone', index=['City'], columns='Churn', aggfunc='count', margins=1)\n",
    "df_ratio = df_pivot.iloc[:,1]/df_pivot.iloc[:,2]*100\n",
    "#print(df_ratio)\n",
    "df_ratio.plot(kind='bar')"
   ]
  },
  {
   "cell_type": "code",
   "execution_count": 8,
   "metadata": {},
   "outputs": [
    {
     "data": {
      "text/plain": [
       "<matplotlib.axes._subplots.AxesSubplot at 0x27d9dce0358>"
      ]
     },
     "execution_count": 8,
     "metadata": {},
     "output_type": "execute_result"
    },
    {
     "data": {
      "image/png": "[encoded data removed]",
      "text/plain": [
       "<Figure size 432x288 with 1 Axes>"
      ]
     },
     "metadata": {
      "needs_background": "light"
     },
     "output_type": "display_data"
    }
   ],
   "source": [
    "df_pivot = df.pivot_table(values='Phone', index=['City'], columns='Prediction (Churn)', aggfunc='count', margins=1)\n",
    "df_ratio = df_pivot.iloc[:,1]/df_pivot.iloc[:,2]*100\n",
    "#print(df_ratio)\n",
    "df_ratio.plot(kind='bar')"
   ]
  },
  {
   "cell_type": "code",
   "execution_count": null,
   "metadata": {},
   "outputs": [],
   "source": []
  },
  {
   "cell_type": "code",
   "execution_count": 13,
   "metadata": {},
   "outputs": [
    {
     "data": {
      "text/plain": [
       "<matplotlib.axes._subplots.AxesSubplot at 0x27d9e2a6128>"
      ]
     },
     "execution_count": 13,
     "metadata": {},
     "output_type": "execute_result"
    },
    {
     "data": {
      "image/png": "[encoded data removed]",
      "text/plain": [
       "<Figure size 432x288 with 1 Axes>"
      ]
     },
     "metadata": {
      "needs_background": "light"
     },
     "output_type": "display_data"
    }
   ],
   "source": [
    "df_pivot = df.pivot_table(values='Phone', index=['VMail Message'], columns='Churn', aggfunc='count', margins=1)\n",
    "df_ratio = df_pivot.iloc[:,1]/df_pivot.iloc[:,2]*100\n",
    "#print(df_ratio)\n",
    "df_ratio.plot(kind='bar')"
   ]
  },
  {
   "cell_type": "code",
   "execution_count": 14,
   "metadata": {},
   "outputs": [
    {
     "data": {
      "text/plain": [
       "<matplotlib.axes._subplots.AxesSubplot at 0x27d9e2f81d0>"
      ]
     },
     "execution_count": 14,
     "metadata": {},
     "output_type": "execute_result"
    },
    {
     "data": {
      "image/png": "[encoded data removed]",
      "text/plain": [
       "<Figure size 432x288 with 1 Axes>"
      ]
     },
     "metadata": {
      "needs_background": "light"
     },
     "output_type": "display_data"
    }
   ],
   "source": [
    "df_pivot = df.pivot_table(values='Phone', index=['VMail Message'], columns='Prediction (Churn)', aggfunc='count', margins=1)\n",
    "df_ratio = df_pivot.iloc[:,1]/df_pivot.iloc[:,2]*100\n",
    "#print(df_ratio)\n",
    "df_ratio.plot(kind='bar')"
   ]
  },
  {
   "cell_type": "code",
   "execution_count": 15,
   "metadata": {},
   "outputs": [
    {
     "data": {
      "text/plain": [
       "<matplotlib.axes._subplots.AxesSubplot at 0x27d9e355ba8>"
      ]
     },
     "execution_count": 15,
     "metadata": {},
     "output_type": "execute_result"
    },
    {
     "data": {
      "image/png": "[encoded data removed]",
      "text/plain": [
       "<Figure size 432x288 with 1 Axes>"
      ]
     },
     "metadata": {
      "needs_background": "light"
     },
     "output_type": "display_data"
    }
   ],
   "source": [
    "df_pivot = df.pivot_table(values='Phone', index=['Day Mins'], columns='Churn', aggfunc='count', margins=1)\n",
    "df_ratio = df_pivot.iloc[:,1]/df_pivot.iloc[:,2]*100\n",
    "#print(df_ratio)\n",
    "df_ratio.plot(kind='bar')"
   ]
  },
  {
   "cell_type": "code",
   "execution_count": 16,
   "metadata": {},
   "outputs": [
    {
     "data": {
      "text/plain": [
       "<matplotlib.axes._subplots.AxesSubplot at 0x27d9e3e2550>"
      ]
     },
     "execution_count": 16,
     "metadata": {},
     "output_type": "execute_result"
    },
    {
     "data": {
      "image/png": "[encoded data removed]",
      "text/plain": [
       "<Figure size 432x288 with 1 Axes>"
      ]
     },
     "metadata": {
      "needs_background": "light"
     },
     "output_type": "display_data"
    }
   ],
   "source": [
    "df_pivot = df.pivot_table(values='Phone', index=['Day Mins'], columns='Prediction (Churn)', aggfunc='count', margins=1)\n",
    "df_ratio = df_pivot.iloc[:,1]/df_pivot.iloc[:,2]*100\n",
    "#print(df_ratio)\n",
    "df_ratio.plot(kind='bar')"
   ]
  },
  {
   "cell_type": "code",
   "execution_count": 17,
   "metadata": {},
   "outputs": [
    {
     "data": {
      "text/plain": [
       "<matplotlib.axes._subplots.AxesSubplot at 0x27d9e460ac8>"
      ]
     },
     "execution_count": 17,
     "metadata": {},
     "output_type": "execute_result"
    },
    {
     "data": {
      "image/png": "[encoded data removed]",
      "text/plain": [
       "<Figure size 432x288 with 1 Axes>"
      ]
     },
     "metadata": {
      "needs_background": "light"
     },
     "output_type": "display_data"
    }
   ],
   "source": [
    "df_pivot = df.pivot_table(values='Phone', index=['Eve Mins'], columns='Churn', aggfunc='count', margins=1)\n",
    "df_ratio = df_pivot.iloc[:,1]/df_pivot.iloc[:,2]*100\n",
    "df_ratio.plot(kind='bar')"
   ]
  },
  {
   "cell_type": "code",
   "execution_count": 18,
   "metadata": {},
   "outputs": [
    {
     "data": {
      "text/plain": [
       "<matplotlib.axes._subplots.AxesSubplot at 0x27d9e4bbdd8>"
      ]
     },
     "execution_count": 18,
     "metadata": {},
     "output_type": "execute_result"
    },
    {
     "data": {
      "image/png": "[encoded data removed]",
      "text/plain": [
       "<Figure size 432x288 with 1 Axes>"
      ]
     },
     "metadata": {
      "needs_background": "light"
     },
     "output_type": "display_data"
    }
   ],
   "source": [
    "df_pivot = df.pivot_table(values='Phone', index=['Eve Mins'], columns='Prediction (Churn)', aggfunc='count', margins=1)\n",
    "df_ratio = df_pivot.iloc[:,1]/df_pivot.iloc[:,2]*100\n",
    "df_ratio.plot(kind='bar')"
   ]
  },
  {
   "cell_type": "code",
   "execution_count": 19,
   "metadata": {},
   "outputs": [
    {
     "data": {
      "text/plain": [
       "<matplotlib.axes._subplots.AxesSubplot at 0x27d9e5309b0>"
      ]
     },
     "execution_count": 19,
     "metadata": {},
     "output_type": "execute_result"
    },
    {
     "data": {
      "image/png": "[encoded data removed]",
      "text/plain": [
       "<Figure size 432x288 with 1 Axes>"
      ]
     },
     "metadata": {
      "needs_background": "light"
     },
     "output_type": "display_data"
    }
   ],
   "source": [
    "df_pivot = df.pivot_table(values='Phone', index=['Night Mins'], columns='Churn', aggfunc='count', margins=1)\n",
    "df_ratio = df_pivot.iloc[:,1]/df_pivot.iloc[:,2]*100\n",
    "df_ratio.plot(kind='bar')"
   ]
  },
  {
   "cell_type": "code",
   "execution_count": 20,
   "metadata": {},
   "outputs": [
    {
     "data": {
      "text/plain": [
       "<matplotlib.axes._subplots.AxesSubplot at 0x27d9e5a90b8>"
      ]
     },
     "execution_count": 20,
     "metadata": {},
     "output_type": "execute_result"
    },
    {
     "data": {
      "image/png": "[encoded data removed]",
      "text/plain": [
       "<Figure size 432x288 with 1 Axes>"
      ]
     },
     "metadata": {
      "needs_background": "light"
     },
     "output_type": "display_data"
    }
   ],
   "source": [
    "df_pivot = df.pivot_table(values='Phone', index=['Night Mins'], columns='Prediction (Churn)', aggfunc='count', margins=1)\n",
    "df_ratio = df_pivot.iloc[:,1]/df_pivot.iloc[:,2]*100\n",
    "df_ratio.plot(kind='bar')"
   ]
  },
  {
   "cell_type": "code",
   "execution_count": 21,
   "metadata": {},
   "outputs": [
    {
     "data": {
      "text/plain": [
       "<matplotlib.axes._subplots.AxesSubplot at 0x27d9e625240>"
      ]
     },
     "execution_count": 21,
     "metadata": {},
     "output_type": "execute_result"
    },
    {
     "data": {
      "image/png": "[encoded data removed]",
      "text/plain": [
       "<Figure size 432x288 with 1 Axes>"
      ]
     },
     "metadata": {
      "needs_background": "light"
     },
     "output_type": "display_data"
    }
   ],
   "source": [
    "df_pivot = df.pivot_table(values='Phone', index=['Intl Mins'], columns='Churn', aggfunc='count', margins=1)\n",
    "df_ratio = df_pivot.iloc[:,1]/df_pivot.iloc[:,2]*100\n",
    "df_ratio.plot(kind='bar')"
   ]
  },
  {
   "cell_type": "code",
   "execution_count": 22,
   "metadata": {},
   "outputs": [
    {
     "data": {
      "text/plain": [
       "<matplotlib.axes._subplots.AxesSubplot at 0x27d9e6a1eb8>"
      ]
     },
     "execution_count": 22,
     "metadata": {},
     "output_type": "execute_result"
    },
    {
     "data": {
      "image/png": "[encoded data removed]",
      "text/plain": [
       "<Figure size 432x288 with 1 Axes>"
      ]
     },
     "metadata": {
      "needs_background": "light"
     },
     "output_type": "display_data"
    }
   ],
   "source": [
    "df_pivot = df.pivot_table(values='Phone', index=['Intl Mins'], columns='Prediction (Churn)', aggfunc='count', margins=1)\n",
    "df_ratio = df_pivot.iloc[:,1]/df_pivot.iloc[:,2]*100\n",
    "df_ratio.plot(kind='bar')"
   ]
  },
  {
   "cell_type": "code",
   "execution_count": 23,
   "metadata": {},
   "outputs": [],
   "source": [
    "#df.groupby([\"CustServ Calls\", \"Churn\"]).size().unstack().plot(kind='bar', stacked=True, figsize=(5,5)) \n",
    "#df.groupby([\"VMail Plan\", \"Churn\"]).size().unstack().plot(kind='bar', stacked=True, figsize=(5,5)) \n",
    "#df.groupby([\"Int'l Plan\", \"Churn\"]).size().unstack().plot(kind='bar', stacked=True, figsize=(5,5))\n",
    "#df.groupby([\"Account Length\", \"Churn\"]).size().unstack().plot(kind='bar', stacked=True, figsize=(5,5))"
   ]
  },
  {
   "cell_type": "code",
   "execution_count": 24,
   "metadata": {},
   "outputs": [
    {
     "data": {
      "text/plain": [
       "<matplotlib.axes._subplots.AxesSubplot at 0x27d9e71d9b0>"
      ]
     },
     "execution_count": 24,
     "metadata": {},
     "output_type": "execute_result"
    },
    {
     "data": {
      "image/png": "[encoded data removed]",
      "text/plain": [
       "<Figure size 432x288 with 1 Axes>"
      ]
     },
     "metadata": {
      "needs_background": "light"
     },
     "output_type": "display_data"
    }
   ],
   "source": [
    "df_pivot = df.pivot_table(values='Phone', index=['CustServ Calls'], columns='Churn', aggfunc='count', margins=1)\n",
    "df_ratio = df_pivot.iloc[:,1]/df_pivot.iloc[:,2]*100\n",
    "df_ratio.plot(kind='bar')"
   ]
  },
  {
   "cell_type": "code",
   "execution_count": 25,
   "metadata": {},
   "outputs": [
    {
     "data": {
      "text/plain": [
       "<matplotlib.axes._subplots.AxesSubplot at 0x27d9e795a90>"
      ]
     },
     "execution_count": 25,
     "metadata": {},
     "output_type": "execute_result"
    },
    {
     "data": {
      "image/png": "[encoded data removed]",
      "text/plain": [
       "<Figure size 432x288 with 1 Axes>"
      ]
     },
     "metadata": {
      "needs_background": "light"
     },
     "output_type": "display_data"
    }
   ],
   "source": [
    "df_pivot = df.pivot_table(values='Phone', index=['CustServ Calls'], columns='Prediction (Churn)', aggfunc='count', margins=1)\n",
    "df_ratio = df_pivot.iloc[:,1]/df_pivot.iloc[:,2]*100\n",
    "df_ratio.plot(kind='bar')"
   ]
  },
  {
   "cell_type": "code",
   "execution_count": 26,
   "metadata": {},
   "outputs": [
    {
     "data": {
      "text/plain": [
       "<matplotlib.axes._subplots.AxesSubplot at 0x27d9e770fd0>"
      ]
     },
     "execution_count": 26,
     "metadata": {},
     "output_type": "execute_result"
    },
    {
     "data": {
      "image/png": "[encoded data removed]",
      "text/plain": [
       "<Figure size 432x288 with 1 Axes>"
      ]
     },
     "metadata": {
      "needs_background": "light"
     },
     "output_type": "display_data"
    }
   ],
   "source": [
    "df_pivot = df.pivot_table(values='Phone', index=['VMail Plan'], columns='Churn', aggfunc='count', margins=1)\n",
    "df_ratio = df_pivot.iloc[:,1]/df_pivot.iloc[:,2]*100\n",
    "df_ratio.plot(kind='bar')"
   ]
  },
  {
   "cell_type": "code",
   "execution_count": 27,
   "metadata": {},
   "outputs": [
    {
     "data": {
      "text/plain": [
       "<matplotlib.axes._subplots.AxesSubplot at 0x27d9e847748>"
      ]
     },
     "execution_count": 27,
     "metadata": {},
     "output_type": "execute_result"
    },
    {
     "data": {
      "image/png": "[encoded data removed]",
      "text/plain": [
       "<Figure size 432x288 with 1 Axes>"
      ]
     },
     "metadata": {
      "needs_background": "light"
     },
     "output_type": "display_data"
    }
   ],
   "source": [
    "df_pivot = df.pivot_table(values='Phone', index=['VMail Plan'], columns='Prediction (Churn)', aggfunc='count', margins=1)\n",
    "df_ratio = df_pivot.iloc[:,1]/df_pivot.iloc[:,2]*100\n",
    "df_ratio.plot(kind='bar')"
   ]
  },
  {
   "cell_type": "code",
   "execution_count": 28,
   "metadata": {},
   "outputs": [
    {
     "data": {
      "text/plain": [
       "<matplotlib.axes._subplots.AxesSubplot at 0x27d9e8ad5f8>"
      ]
     },
     "execution_count": 28,
     "metadata": {},
     "output_type": "execute_result"
    },
    {
     "data": {
      "image/png": "[encoded data removed]",
      "text/plain": [
       "<Figure size 432x288 with 1 Axes>"
      ]
     },
     "metadata": {
      "needs_background": "light"
     },
     "output_type": "display_data"
    }
   ],
   "source": [
    "df_pivot = df.pivot_table(values='Phone', index=['Int\\'l Plan'], columns='Churn', aggfunc='count', margins=1)\n",
    "df_ratio = df_pivot.iloc[:,1]/df_pivot.iloc[:,2]*100\n",
    "df_ratio.plot(kind='bar')"
   ]
  },
  {
   "cell_type": "code",
   "execution_count": 29,
   "metadata": {},
   "outputs": [
    {
     "data": {
      "text/plain": [
       "<matplotlib.axes._subplots.AxesSubplot at 0x27d9f8dda58>"
      ]
     },
     "execution_count": 29,
     "metadata": {},
     "output_type": "execute_result"
    },
    {
     "data": {
      "image/png": "[encoded data removed]",
      "text/plain": [
       "<Figure size 432x288 with 1 Axes>"
      ]
     },
     "metadata": {
      "needs_background": "light"
     },
     "output_type": "display_data"
    }
   ],
   "source": [
    "df_pivot = df.pivot_table(values='Phone', index=['Int\\'l Plan'], columns='Prediction (Churn)', aggfunc='count', margins=1)\n",
    "df_ratio = df_pivot.iloc[:,1]/df_pivot.iloc[:,2]*100\n",
    "df_ratio.plot(kind='bar')"
   ]
  },
  {
   "cell_type": "code",
   "execution_count": 30,
   "metadata": {},
   "outputs": [
    {
     "data": {
      "text/plain": [
       "<matplotlib.axes._subplots.AxesSubplot at 0x27d9e837c50>"
      ]
     },
     "execution_count": 30,
     "metadata": {},
     "output_type": "execute_result"
    },
    {
     "data": {
      "image/png": "[encoded data removed]",
      "text/plain": [
       "<Figure size 432x288 with 1 Axes>"
      ]
     },
     "metadata": {
      "needs_background": "light"
     },
     "output_type": "display_data"
    }
   ],
   "source": [
    "df_pivot = df.pivot_table(values='Phone', index=['Account Length'], columns='Churn', aggfunc='count', margins=1)\n",
    "df_ratio = df_pivot.iloc[:,1]/df_pivot.iloc[:,2]*100\n",
    "df_ratio.plot(kind='bar')"
   ]
  },
  {
   "cell_type": "code",
   "execution_count": 31,
   "metadata": {},
   "outputs": [
    {
     "data": {
      "text/plain": [
       "<matplotlib.axes._subplots.AxesSubplot at 0x27d9f9ae940>"
      ]
     },
     "execution_count": 31,
     "metadata": {},
     "output_type": "execute_result"
    },
    {
     "data": {
      "image/png": "[encoded data removed]",
      "text/plain": [
       "<Figure size 432x288 with 1 Axes>"
      ]
     },
     "metadata": {
      "needs_background": "light"
     },
     "output_type": "display_data"
    }
   ],
   "source": [
    "df_pivot = df.pivot_table(values='Phone', index=['Account Length'], columns='Prediction (Churn)', aggfunc='count', margins=1)\n",
    "df_ratio = df_pivot.iloc[:,1]/df_pivot.iloc[:,2]*100\n",
    "df_ratio.plot(kind='bar')"
   ]
  },
  {
   "cell_type": "code",
   "execution_count": null,
   "metadata": {},
   "outputs": [],
   "source": []
  }
 ],
 "metadata": {
  "kernelspec": {
   "display_name": "Python 3",
   "language": "python",
   "name": "python3"
  },
  "language_info": {
   "codemirror_mode": {
    "name": "ipython",
    "version": 3
   },
   "file_extension": ".py",
   "mimetype": "text/x-python",
   "name": "python",
   "nbconvert_exporter": "python",
   "pygments_lexer": "ipython3",
   "version": "3.7.3"
  }
 },
 "nbformat": 4,
 "nbformat_minor": 2
}
